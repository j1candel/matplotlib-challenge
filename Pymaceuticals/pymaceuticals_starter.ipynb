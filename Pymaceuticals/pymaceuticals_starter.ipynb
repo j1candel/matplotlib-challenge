{
 "cells": [
  {
   "cell_type": "markdown",
   "metadata": {},
   "source": [
    "## Observations and Insights "
   ]
  },
  {
   "cell_type": "markdown",
   "metadata": {},
   "source": [
    "# Observations:"
   ]
  },
  {
   "cell_type": "markdown",
   "metadata": {},
   "source": [
    "#1: Capomulin and Ramicane have the lowest variance among other types of treatments. That means that these two \n",
    "treatments have the least amount of variability among other treatments. Both mice in Capomulin and Ramicane are \n",
    "responding similarly to the treatment. "
   ]
  },
  {
   "cell_type": "markdown",
   "metadata": {},
   "source": [
    "#2: There are outliers in the data set for the average mean of Capomulin, Ramicane, Infubinol, and Ceftamin. Infubinol is the only drug that has an outlier, meaning that out of the four, it may have data that could skew the data to the left on a noraml distribution curve. "
   ]
  },
  {
   "cell_type": "markdown",
   "metadata": {},
   "source": [
    "#3: The correlation coefficient between mouse weight and average tumor size is 0.841936342469471. This means that both varaibles are positively correlated with one another.\n"
   ]
  },
  {
   "cell_type": "markdown",
   "metadata": {},
   "source": []
  },
  {
   "cell_type": "code",
   "execution_count": 62,
   "metadata": {},
   "outputs": [
    {
     "data": {
      "text/html": [
       "<div>\n",
       "<style scoped>\n",
       "    .dataframe tbody tr th:only-of-type {\n",
       "        vertical-align: middle;\n",
       "    }\n",
       "\n",
       "    .dataframe tbody tr th {\n",
       "        vertical-align: top;\n",
       "    }\n",
       "\n",
       "    .dataframe thead th {\n",
       "        text-align: right;\n",
       "    }\n",
       "</style>\n",
       "<table border=\"1\" class=\"dataframe\">\n",
       "  <thead>\n",
       "    <tr style=\"text-align: right;\">\n",
       "      <th></th>\n",
       "      <th>Mouse ID</th>\n",
       "      <th>Drug Regimen</th>\n",
       "      <th>Sex</th>\n",
       "      <th>Age_months</th>\n",
       "      <th>Weight (g)</th>\n",
       "      <th>Timepoint</th>\n",
       "      <th>Tumor Volume (mm3)</th>\n",
       "      <th>Metastatic Sites</th>\n",
       "    </tr>\n",
       "  </thead>\n",
       "  <tbody>\n",
       "    <tr>\n",
       "      <th>0</th>\n",
       "      <td>k403</td>\n",
       "      <td>Ramicane</td>\n",
       "      <td>Male</td>\n",
       "      <td>21</td>\n",
       "      <td>16</td>\n",
       "      <td>0</td>\n",
       "      <td>45.000000</td>\n",
       "      <td>0</td>\n",
       "    </tr>\n",
       "    <tr>\n",
       "      <th>1</th>\n",
       "      <td>k403</td>\n",
       "      <td>Ramicane</td>\n",
       "      <td>Male</td>\n",
       "      <td>21</td>\n",
       "      <td>16</td>\n",
       "      <td>5</td>\n",
       "      <td>38.825898</td>\n",
       "      <td>0</td>\n",
       "    </tr>\n",
       "    <tr>\n",
       "      <th>2</th>\n",
       "      <td>k403</td>\n",
       "      <td>Ramicane</td>\n",
       "      <td>Male</td>\n",
       "      <td>21</td>\n",
       "      <td>16</td>\n",
       "      <td>10</td>\n",
       "      <td>35.014271</td>\n",
       "      <td>1</td>\n",
       "    </tr>\n",
       "    <tr>\n",
       "      <th>3</th>\n",
       "      <td>k403</td>\n",
       "      <td>Ramicane</td>\n",
       "      <td>Male</td>\n",
       "      <td>21</td>\n",
       "      <td>16</td>\n",
       "      <td>15</td>\n",
       "      <td>34.223992</td>\n",
       "      <td>1</td>\n",
       "    </tr>\n",
       "    <tr>\n",
       "      <th>4</th>\n",
       "      <td>k403</td>\n",
       "      <td>Ramicane</td>\n",
       "      <td>Male</td>\n",
       "      <td>21</td>\n",
       "      <td>16</td>\n",
       "      <td>20</td>\n",
       "      <td>32.997729</td>\n",
       "      <td>1</td>\n",
       "    </tr>\n",
       "    <tr>\n",
       "      <th>...</th>\n",
       "      <td>...</td>\n",
       "      <td>...</td>\n",
       "      <td>...</td>\n",
       "      <td>...</td>\n",
       "      <td>...</td>\n",
       "      <td>...</td>\n",
       "      <td>...</td>\n",
       "      <td>...</td>\n",
       "    </tr>\n",
       "    <tr>\n",
       "      <th>1888</th>\n",
       "      <td>z969</td>\n",
       "      <td>Naftisol</td>\n",
       "      <td>Male</td>\n",
       "      <td>9</td>\n",
       "      <td>30</td>\n",
       "      <td>25</td>\n",
       "      <td>63.145652</td>\n",
       "      <td>2</td>\n",
       "    </tr>\n",
       "    <tr>\n",
       "      <th>1889</th>\n",
       "      <td>z969</td>\n",
       "      <td>Naftisol</td>\n",
       "      <td>Male</td>\n",
       "      <td>9</td>\n",
       "      <td>30</td>\n",
       "      <td>30</td>\n",
       "      <td>65.841013</td>\n",
       "      <td>3</td>\n",
       "    </tr>\n",
       "    <tr>\n",
       "      <th>1890</th>\n",
       "      <td>z969</td>\n",
       "      <td>Naftisol</td>\n",
       "      <td>Male</td>\n",
       "      <td>9</td>\n",
       "      <td>30</td>\n",
       "      <td>35</td>\n",
       "      <td>69.176246</td>\n",
       "      <td>4</td>\n",
       "    </tr>\n",
       "    <tr>\n",
       "      <th>1891</th>\n",
       "      <td>z969</td>\n",
       "      <td>Naftisol</td>\n",
       "      <td>Male</td>\n",
       "      <td>9</td>\n",
       "      <td>30</td>\n",
       "      <td>40</td>\n",
       "      <td>70.314904</td>\n",
       "      <td>4</td>\n",
       "    </tr>\n",
       "    <tr>\n",
       "      <th>1892</th>\n",
       "      <td>z969</td>\n",
       "      <td>Naftisol</td>\n",
       "      <td>Male</td>\n",
       "      <td>9</td>\n",
       "      <td>30</td>\n",
       "      <td>45</td>\n",
       "      <td>73.867845</td>\n",
       "      <td>4</td>\n",
       "    </tr>\n",
       "  </tbody>\n",
       "</table>\n",
       "<p>1893 rows × 8 columns</p>\n",
       "</div>"
      ],
      "text/plain": [
       "     Mouse ID Drug Regimen   Sex  Age_months  Weight (g)  Timepoint  \\\n",
       "0        k403     Ramicane  Male          21          16          0   \n",
       "1        k403     Ramicane  Male          21          16          5   \n",
       "2        k403     Ramicane  Male          21          16         10   \n",
       "3        k403     Ramicane  Male          21          16         15   \n",
       "4        k403     Ramicane  Male          21          16         20   \n",
       "...       ...          ...   ...         ...         ...        ...   \n",
       "1888     z969     Naftisol  Male           9          30         25   \n",
       "1889     z969     Naftisol  Male           9          30         30   \n",
       "1890     z969     Naftisol  Male           9          30         35   \n",
       "1891     z969     Naftisol  Male           9          30         40   \n",
       "1892     z969     Naftisol  Male           9          30         45   \n",
       "\n",
       "      Tumor Volume (mm3)  Metastatic Sites  \n",
       "0              45.000000                 0  \n",
       "1              38.825898                 0  \n",
       "2              35.014271                 1  \n",
       "3              34.223992                 1  \n",
       "4              32.997729                 1  \n",
       "...                  ...               ...  \n",
       "1888           63.145652                 2  \n",
       "1889           65.841013                 3  \n",
       "1890           69.176246                 4  \n",
       "1891           70.314904                 4  \n",
       "1892           73.867845                 4  \n",
       "\n",
       "[1893 rows x 8 columns]"
      ]
     },
     "execution_count": 62,
     "metadata": {},
     "output_type": "execute_result"
    }
   ],
   "source": [
    "# Dependencies and Setup\n",
    "import matplotlib.pyplot as plt\n",
    "import pandas as pd\n",
    "import scipy.stats as sts\n",
    "import numpy as np \n",
    "\n",
    "# Study data files\n",
    "mouse_metadata_path = \"data/Mouse_metadata.csv\"\n",
    "study_results_path = \"data/Study_results.csv\"\n",
    "\n",
    "# Read the mouse data and the study results\n",
    "mouse_metadata = pd.read_csv(mouse_metadata_path)\n",
    "study_results = pd.read_csv(study_results_path)\n",
    "\n",
    "# Combine the data into a single dataset\n",
    "mice_data_df=pd.merge(mouse_metadata, study_results, on='Mouse ID', how='outer')\n",
    "\n",
    "# Display the data table for preview\n",
    "mice_data_df"
   ]
  },
  {
   "cell_type": "code",
   "execution_count": 63,
   "metadata": {},
   "outputs": [
    {
     "data": {
      "text/plain": [
       "1893"
      ]
     },
     "execution_count": 63,
     "metadata": {},
     "output_type": "execute_result"
    }
   ],
   "source": [
    "# Checking the number of mice.\n",
    "number_of_mice = len(mice_data_df)\n",
    "number_of_mice"
   ]
  },
  {
   "cell_type": "code",
   "execution_count": 64,
   "metadata": {},
   "outputs": [
    {
     "data": {
      "text/plain": [
       "249"
      ]
     },
     "execution_count": 64,
     "metadata": {},
     "output_type": "execute_result"
    }
   ],
   "source": [
    "number_of_mice = mice_data_df['Mouse ID'].unique()\n",
    "len(number_of_mice)"
   ]
  },
  {
   "cell_type": "code",
   "execution_count": 65,
   "metadata": {},
   "outputs": [
    {
     "data": {
      "text/html": [
       "<div>\n",
       "<style scoped>\n",
       "    .dataframe tbody tr th:only-of-type {\n",
       "        vertical-align: middle;\n",
       "    }\n",
       "\n",
       "    .dataframe tbody tr th {\n",
       "        vertical-align: top;\n",
       "    }\n",
       "\n",
       "    .dataframe thead th {\n",
       "        text-align: right;\n",
       "    }\n",
       "</style>\n",
       "<table border=\"1\" class=\"dataframe\">\n",
       "  <thead>\n",
       "    <tr style=\"text-align: right;\">\n",
       "      <th></th>\n",
       "      <th>Timepoint</th>\n",
       "    </tr>\n",
       "    <tr>\n",
       "      <th>Drug Regimen</th>\n",
       "      <th></th>\n",
       "    </tr>\n",
       "  </thead>\n",
       "  <tbody>\n",
       "    <tr>\n",
       "      <th>Capomulin</th>\n",
       "      <td>230</td>\n",
       "    </tr>\n",
       "    <tr>\n",
       "      <th>Ceftamin</th>\n",
       "      <td>178</td>\n",
       "    </tr>\n",
       "    <tr>\n",
       "      <th>Infubinol</th>\n",
       "      <td>178</td>\n",
       "    </tr>\n",
       "    <tr>\n",
       "      <th>Ketapril</th>\n",
       "      <td>188</td>\n",
       "    </tr>\n",
       "    <tr>\n",
       "      <th>Naftisol</th>\n",
       "      <td>186</td>\n",
       "    </tr>\n",
       "    <tr>\n",
       "      <th>Placebo</th>\n",
       "      <td>181</td>\n",
       "    </tr>\n",
       "    <tr>\n",
       "      <th>Propriva</th>\n",
       "      <td>161</td>\n",
       "    </tr>\n",
       "    <tr>\n",
       "      <th>Ramicane</th>\n",
       "      <td>228</td>\n",
       "    </tr>\n",
       "    <tr>\n",
       "      <th>Stelasyn</th>\n",
       "      <td>181</td>\n",
       "    </tr>\n",
       "    <tr>\n",
       "      <th>Zoniferol</th>\n",
       "      <td>182</td>\n",
       "    </tr>\n",
       "  </tbody>\n",
       "</table>\n",
       "</div>"
      ],
      "text/plain": [
       "              Timepoint\n",
       "Drug Regimen           \n",
       "Capomulin           230\n",
       "Ceftamin            178\n",
       "Infubinol           178\n",
       "Ketapril            188\n",
       "Naftisol            186\n",
       "Placebo             181\n",
       "Propriva            161\n",
       "Ramicane            228\n",
       "Stelasyn            181\n",
       "Zoniferol           182"
      ]
     },
     "execution_count": 65,
     "metadata": {},
     "output_type": "execute_result"
    }
   ],
   "source": [
    "# Getting the duplicate mice by ID number that shows up for Mouse ID and Timepoint. \n",
    "group_mice = mice_data_df.groupby('Drug Regimen')\n",
    "duplicate_mice_df = group_mice[['Timepoint']].count()\n",
    "duplicate_mice_df"
   ]
  },
  {
   "cell_type": "code",
   "execution_count": 66,
   "metadata": {},
   "outputs": [],
   "source": [
    "# Optional: Get all the data for the duplicate mouse ID. \n",
    "\n"
   ]
  },
  {
   "cell_type": "code",
   "execution_count": 67,
   "metadata": {},
   "outputs": [
    {
     "data": {
      "text/html": [
       "<div>\n",
       "<style scoped>\n",
       "    .dataframe tbody tr th:only-of-type {\n",
       "        vertical-align: middle;\n",
       "    }\n",
       "\n",
       "    .dataframe tbody tr th {\n",
       "        vertical-align: top;\n",
       "    }\n",
       "\n",
       "    .dataframe thead th {\n",
       "        text-align: right;\n",
       "    }\n",
       "</style>\n",
       "<table border=\"1\" class=\"dataframe\">\n",
       "  <thead>\n",
       "    <tr style=\"text-align: right;\">\n",
       "      <th></th>\n",
       "      <th>Mouse ID</th>\n",
       "      <th>Drug Regimen</th>\n",
       "      <th>Sex</th>\n",
       "      <th>Age_months</th>\n",
       "      <th>Weight (g)</th>\n",
       "      <th>Timepoint</th>\n",
       "      <th>Tumor Volume (mm3)</th>\n",
       "      <th>Metastatic Sites</th>\n",
       "    </tr>\n",
       "  </thead>\n",
       "  <tbody>\n",
       "    <tr>\n",
       "      <th>9</th>\n",
       "      <td>k403</td>\n",
       "      <td>Ramicane</td>\n",
       "      <td>Male</td>\n",
       "      <td>21</td>\n",
       "      <td>16</td>\n",
       "      <td>45</td>\n",
       "      <td>22.050126</td>\n",
       "      <td>1</td>\n",
       "    </tr>\n",
       "    <tr>\n",
       "      <th>19</th>\n",
       "      <td>s185</td>\n",
       "      <td>Capomulin</td>\n",
       "      <td>Female</td>\n",
       "      <td>3</td>\n",
       "      <td>17</td>\n",
       "      <td>45</td>\n",
       "      <td>23.343598</td>\n",
       "      <td>1</td>\n",
       "    </tr>\n",
       "    <tr>\n",
       "      <th>29</th>\n",
       "      <td>x401</td>\n",
       "      <td>Capomulin</td>\n",
       "      <td>Female</td>\n",
       "      <td>16</td>\n",
       "      <td>15</td>\n",
       "      <td>45</td>\n",
       "      <td>28.484033</td>\n",
       "      <td>0</td>\n",
       "    </tr>\n",
       "    <tr>\n",
       "      <th>39</th>\n",
       "      <td>m601</td>\n",
       "      <td>Capomulin</td>\n",
       "      <td>Male</td>\n",
       "      <td>22</td>\n",
       "      <td>17</td>\n",
       "      <td>45</td>\n",
       "      <td>28.430964</td>\n",
       "      <td>1</td>\n",
       "    </tr>\n",
       "    <tr>\n",
       "      <th>49</th>\n",
       "      <td>g791</td>\n",
       "      <td>Ramicane</td>\n",
       "      <td>Male</td>\n",
       "      <td>11</td>\n",
       "      <td>16</td>\n",
       "      <td>45</td>\n",
       "      <td>29.128472</td>\n",
       "      <td>1</td>\n",
       "    </tr>\n",
       "    <tr>\n",
       "      <th>...</th>\n",
       "      <td>...</td>\n",
       "      <td>...</td>\n",
       "      <td>...</td>\n",
       "      <td>...</td>\n",
       "      <td>...</td>\n",
       "      <td>...</td>\n",
       "      <td>...</td>\n",
       "      <td>...</td>\n",
       "    </tr>\n",
       "    <tr>\n",
       "      <th>1859</th>\n",
       "      <td>z314</td>\n",
       "      <td>Stelasyn</td>\n",
       "      <td>Female</td>\n",
       "      <td>21</td>\n",
       "      <td>28</td>\n",
       "      <td>5</td>\n",
       "      <td>45.934712</td>\n",
       "      <td>0</td>\n",
       "    </tr>\n",
       "    <tr>\n",
       "      <th>1862</th>\n",
       "      <td>z435</td>\n",
       "      <td>Propriva</td>\n",
       "      <td>Female</td>\n",
       "      <td>12</td>\n",
       "      <td>26</td>\n",
       "      <td>10</td>\n",
       "      <td>48.710661</td>\n",
       "      <td>0</td>\n",
       "    </tr>\n",
       "    <tr>\n",
       "      <th>1872</th>\n",
       "      <td>z581</td>\n",
       "      <td>Infubinol</td>\n",
       "      <td>Female</td>\n",
       "      <td>24</td>\n",
       "      <td>25</td>\n",
       "      <td>45</td>\n",
       "      <td>62.754451</td>\n",
       "      <td>3</td>\n",
       "    </tr>\n",
       "    <tr>\n",
       "      <th>1882</th>\n",
       "      <td>z795</td>\n",
       "      <td>Naftisol</td>\n",
       "      <td>Female</td>\n",
       "      <td>13</td>\n",
       "      <td>29</td>\n",
       "      <td>45</td>\n",
       "      <td>65.741070</td>\n",
       "      <td>3</td>\n",
       "    </tr>\n",
       "    <tr>\n",
       "      <th>1892</th>\n",
       "      <td>z969</td>\n",
       "      <td>Naftisol</td>\n",
       "      <td>Male</td>\n",
       "      <td>9</td>\n",
       "      <td>30</td>\n",
       "      <td>45</td>\n",
       "      <td>73.867845</td>\n",
       "      <td>4</td>\n",
       "    </tr>\n",
       "  </tbody>\n",
       "</table>\n",
       "<p>249 rows × 8 columns</p>\n",
       "</div>"
      ],
      "text/plain": [
       "     Mouse ID Drug Regimen     Sex  Age_months  Weight (g)  Timepoint  \\\n",
       "9        k403     Ramicane    Male          21          16         45   \n",
       "19       s185    Capomulin  Female           3          17         45   \n",
       "29       x401    Capomulin  Female          16          15         45   \n",
       "39       m601    Capomulin    Male          22          17         45   \n",
       "49       g791     Ramicane    Male          11          16         45   \n",
       "...       ...          ...     ...         ...         ...        ...   \n",
       "1859     z314     Stelasyn  Female          21          28          5   \n",
       "1862     z435     Propriva  Female          12          26         10   \n",
       "1872     z581    Infubinol  Female          24          25         45   \n",
       "1882     z795     Naftisol  Female          13          29         45   \n",
       "1892     z969     Naftisol    Male           9          30         45   \n",
       "\n",
       "      Tumor Volume (mm3)  Metastatic Sites  \n",
       "9              22.050126                 1  \n",
       "19             23.343598                 1  \n",
       "29             28.484033                 0  \n",
       "39             28.430964                 1  \n",
       "49             29.128472                 1  \n",
       "...                  ...               ...  \n",
       "1859           45.934712                 0  \n",
       "1862           48.710661                 0  \n",
       "1872           62.754451                 3  \n",
       "1882           65.741070                 3  \n",
       "1892           73.867845                 4  \n",
       "\n",
       "[249 rows x 8 columns]"
      ]
     },
     "execution_count": 67,
     "metadata": {},
     "output_type": "execute_result"
    }
   ],
   "source": [
    "# Create a clean DataFrame by dropping the duplicate mouse by its ID.  \n",
    "#mice_data_df.sort_values(\"Mouse ID\", inplace = True) \n",
    "clean_data_df = mice_data_df.drop_duplicates(subset = 'Mouse ID', keep = 'last') \n",
    "clean_data_df"
   ]
  },
  {
   "cell_type": "code",
   "execution_count": 68,
   "metadata": {},
   "outputs": [],
   "source": [
    "# Checking the number of mice in the clean DataFrame.\n",
    "number_of_mice = len(clean_data_df)"
   ]
  },
  {
   "cell_type": "markdown",
   "metadata": {},
   "source": [
    "## Summary Statistics"
   ]
  },
  {
   "cell_type": "code",
   "execution_count": 69,
   "metadata": {},
   "outputs": [
    {
     "data": {
      "text/html": [
       "<div>\n",
       "<style scoped>\n",
       "    .dataframe tbody tr th:only-of-type {\n",
       "        vertical-align: middle;\n",
       "    }\n",
       "\n",
       "    .dataframe tbody tr th {\n",
       "        vertical-align: top;\n",
       "    }\n",
       "\n",
       "    .dataframe thead th {\n",
       "        text-align: right;\n",
       "    }\n",
       "</style>\n",
       "<table border=\"1\" class=\"dataframe\">\n",
       "  <thead>\n",
       "    <tr style=\"text-align: right;\">\n",
       "      <th></th>\n",
       "      <th>Drug Regimen</th>\n",
       "      <th>Mean</th>\n",
       "      <th>Median</th>\n",
       "      <th>Variance</th>\n",
       "      <th>Standard Deviation</th>\n",
       "      <th>SEM</th>\n",
       "    </tr>\n",
       "  </thead>\n",
       "  <tbody>\n",
       "    <tr>\n",
       "      <th>0</th>\n",
       "      <td>Capomulin</td>\n",
       "      <td>36.667568</td>\n",
       "      <td>38.125164</td>\n",
       "      <td>32.663378</td>\n",
       "      <td>5.715188</td>\n",
       "      <td>1.143038</td>\n",
       "    </tr>\n",
       "    <tr>\n",
       "      <th>1</th>\n",
       "      <td>Ceftamin</td>\n",
       "      <td>57.753977</td>\n",
       "      <td>59.851956</td>\n",
       "      <td>69.982735</td>\n",
       "      <td>8.365568</td>\n",
       "      <td>1.673114</td>\n",
       "    </tr>\n",
       "    <tr>\n",
       "      <th>2</th>\n",
       "      <td>Infubinol</td>\n",
       "      <td>58.178246</td>\n",
       "      <td>60.165180</td>\n",
       "      <td>74.010875</td>\n",
       "      <td>8.602957</td>\n",
       "      <td>1.720591</td>\n",
       "    </tr>\n",
       "    <tr>\n",
       "      <th>3</th>\n",
       "      <td>Ketapril</td>\n",
       "      <td>62.806191</td>\n",
       "      <td>64.487812</td>\n",
       "      <td>98.921330</td>\n",
       "      <td>9.945920</td>\n",
       "      <td>1.989184</td>\n",
       "    </tr>\n",
       "    <tr>\n",
       "      <th>4</th>\n",
       "      <td>Naftisol</td>\n",
       "      <td>61.205757</td>\n",
       "      <td>63.283288</td>\n",
       "      <td>106.029927</td>\n",
       "      <td>10.297083</td>\n",
       "      <td>2.059417</td>\n",
       "    </tr>\n",
       "    <tr>\n",
       "      <th>5</th>\n",
       "      <td>Placebo</td>\n",
       "      <td>60.508414</td>\n",
       "      <td>62.030594</td>\n",
       "      <td>78.759797</td>\n",
       "      <td>8.874672</td>\n",
       "      <td>1.774934</td>\n",
       "    </tr>\n",
       "    <tr>\n",
       "      <th>6</th>\n",
       "      <td>Propriva</td>\n",
       "      <td>56.736964</td>\n",
       "      <td>55.841410</td>\n",
       "      <td>69.349002</td>\n",
       "      <td>8.327605</td>\n",
       "      <td>1.665521</td>\n",
       "    </tr>\n",
       "    <tr>\n",
       "      <th>7</th>\n",
       "      <td>Ramicane</td>\n",
       "      <td>36.191390</td>\n",
       "      <td>36.561652</td>\n",
       "      <td>32.166354</td>\n",
       "      <td>5.671539</td>\n",
       "      <td>1.134308</td>\n",
       "    </tr>\n",
       "    <tr>\n",
       "      <th>8</th>\n",
       "      <td>Stelasyn</td>\n",
       "      <td>61.001707</td>\n",
       "      <td>62.192350</td>\n",
       "      <td>90.331586</td>\n",
       "      <td>9.504293</td>\n",
       "      <td>1.940056</td>\n",
       "    </tr>\n",
       "    <tr>\n",
       "      <th>9</th>\n",
       "      <td>Zoniferol</td>\n",
       "      <td>59.181258</td>\n",
       "      <td>61.840058</td>\n",
       "      <td>76.862027</td>\n",
       "      <td>8.767099</td>\n",
       "      <td>1.753420</td>\n",
       "    </tr>\n",
       "  </tbody>\n",
       "</table>\n",
       "</div>"
      ],
      "text/plain": [
       "  Drug Regimen       Mean     Median    Variance  Standard Deviation       SEM\n",
       "0    Capomulin  36.667568  38.125164   32.663378            5.715188  1.143038\n",
       "1     Ceftamin  57.753977  59.851956   69.982735            8.365568  1.673114\n",
       "2    Infubinol  58.178246  60.165180   74.010875            8.602957  1.720591\n",
       "3     Ketapril  62.806191  64.487812   98.921330            9.945920  1.989184\n",
       "4     Naftisol  61.205757  63.283288  106.029927           10.297083  2.059417\n",
       "5      Placebo  60.508414  62.030594   78.759797            8.874672  1.774934\n",
       "6     Propriva  56.736964  55.841410   69.349002            8.327605  1.665521\n",
       "7     Ramicane  36.191390  36.561652   32.166354            5.671539  1.134308\n",
       "8     Stelasyn  61.001707  62.192350   90.331586            9.504293  1.940056\n",
       "9    Zoniferol  59.181258  61.840058   76.862027            8.767099  1.753420"
      ]
     },
     "execution_count": 69,
     "metadata": {},
     "output_type": "execute_result"
    }
   ],
   "source": [
    "# Generate a summary statistics table of mean, median, variance, standard deviation, and SEM of the tumor volume for each regimen\n",
    "#Making a table with only Tumor Volume and Drug Regimen \n",
    "tumor_volume = clean_data_df[['Tumor Volume (mm3)','Drug Regimen']]\n",
    "regimen_df = tumor_volume.groupby('Drug Regimen')\n",
    "\n",
    "#Taking the mean of tumor volume \n",
    "tumor_mean = regimen_df.mean()\n",
    "\n",
    "#Taking the median of tumor volume \n",
    "tumor_median = regimen_df.median()\n",
    "\n",
    "#Merging into one summary table \n",
    "sum_data_df = pd.merge(tumor_mean, tumor_median, on='Drug Regimen', how='outer')\n",
    "\n",
    "sum_data_df = sum_data_df.rename(columns={\"Tumor Volume (mm3)_x\" : \"Mean\", \"Tumor Volume (mm3)_y\" : \"Median\"})\n",
    "\n",
    "#Taking the Variance of tumor volume \n",
    "tumor_var = regimen_df.var()\n",
    "\n",
    "#Taking the Standard Deviation of tumor volume \n",
    "tumor_std = regimen_df.std()\n",
    "\n",
    "#Merging into summary table\n",
    "sum_data_df = pd.merge(sum_data_df, tumor_var, on='Drug Regimen', how='outer')\n",
    "sum_data_df = pd.merge(sum_data_df, tumor_std, on='Drug Regimen', how='outer')\n",
    "\n",
    "#Renaming the Columns \n",
    "sum_data_df = sum_data_df.rename(columns={\"Tumor Volume (mm3)_x\" : \"Variance\", \"Tumor Volume (mm3)_y\" : \"Standard Deviation\"})\n",
    "\n",
    "#Taking the SEM of tumor volume \n",
    "tumor_sem = regimen_df.sem()\n",
    "\n",
    "#Merging into one summary table \n",
    "sum_data_df = pd.merge(sum_data_df, tumor_sem, on='Drug Regimen', how='outer')\n",
    "sum_data_df = sum_data_df.rename(columns={\"Tumor Volume (mm3)\" : \"SEM\"})\n",
    "\n",
    "#Final Summary Table \n",
    "final_sum_data_df = sum_data_df.reset_index()\n",
    "final_sum_data_df\n"
   ]
  },
  {
   "cell_type": "markdown",
   "metadata": {},
   "source": [
    "## Bar and Pie Charts"
   ]
  },
  {
   "cell_type": "code",
   "execution_count": 70,
   "metadata": {},
   "outputs": [
    {
     "data": {
      "text/plain": [
       "<matplotlib.axes._subplots.AxesSubplot at 0x7f8d18321c90>"
      ]
     },
     "execution_count": 70,
     "metadata": {},
     "output_type": "execute_result"
    },
    {
     "data": {
      "image/png": "[encoded data removed]",
      "text/plain": [
       "<Figure size 432x288 with 1 Axes>"
      ]
     },
     "metadata": {
      "needs_background": "light"
     },
     "output_type": "display_data"
    }
   ],
   "source": [
    "# Generate a bar plot showing the total number of mice for each treatment throughout the course of the study using pandas. \n",
    "mice_per_df = mice_data_df.groupby('Drug Regimen')\n",
    "number_of_mice_df = mice_per_df.count()\n",
    "number_of_mice_df = number_of_mice_df['Mouse ID']\n",
    "\n",
    "#Merging count with sum data and eliminating the index\n",
    "mice_df = pd.merge(sum_data_df, number_of_mice_df, on = 'Drug Regimen') \n",
    "\n",
    "#Resetting the Index\n",
    "mice_df = mice_df.reset_index()\n",
    "\n",
    "#Renaming the columns \n",
    "mice_df = mice_df.rename(columns={'Mouse ID':'Number of Mice'})\n",
    "\n",
    "#Sorting by largest to smallest \n",
    "mice_df = mice_df.sort_values('Number of Mice', ascending = False)\n",
    "\n",
    "#Making Bar Plot \n",
    "mice_df.plot(x = 'Drug Regimen', y = 'Number of Mice', kind = 'bar', title = 'Mice per Treatment')\n",
    " "
   ]
  },
  {
   "cell_type": "code",
   "execution_count": 71,
   "metadata": {},
   "outputs": [
    {
     "data": {
      "image/png": "[encoded data removed]",
      "text/plain": [
       "<Figure size 432x288 with 1 Axes>"
      ]
     },
     "metadata": {
      "needs_background": "light"
     },
     "output_type": "display_data"
    }
   ],
   "source": [
    "#Setting the x values to a value \n",
    "x_values = mice_df['Drug Regimen']\n",
    "\n",
    "#Setting the y values to a value \n",
    "y_values = mice_df['Number of Mice']\n",
    "\n",
    "# Generate a bar plot showing the total number of mice for each treatment throughout the course of the study using pyplot.\n",
    "x_axis = np.arange(0, len(x_values))\n",
    "\n",
    "#Making a list named tick locations \n",
    "tick_locations = []\n",
    "\n",
    "#Making a list and adding to it \n",
    "for x in x_axis:\n",
    "    tick_locations.append(x)\n",
    "\n",
    "#Making the y values a list \n",
    "y_axis = list(y_values)\n",
    "\n",
    "#Giving names to x and y axis and titile \n",
    "plt.title('Rat Count Per Drug')\n",
    "plt.xlabel('Drug Regimen')\n",
    "plt.ylabel('Number of Rats')\n",
    "\n",
    "#Making the bar plot \n",
    "plt.bar(x_axis, y_axis, facecolor = 'indigo', alpha= 0.25, align= 'center')\n",
    "plt.xticks(tick_locations, x_values, rotation = 'vertical')\n",
    "plt.show()"
   ]
  },
  {
   "cell_type": "code",
   "execution_count": 72,
   "metadata": {
    "scrolled": true
   },
   "outputs": [
    {
     "data": {
      "text/plain": [
       "<matplotlib.axes._subplots.AxesSubplot at 0x7f8d1935b110>"
      ]
     },
     "execution_count": 72,
     "metadata": {},
     "output_type": "execute_result"
    },
    {
     "data": {
      "image/png": "[encoded data removed]",
      "text/plain": [
       "<Figure size 432x288 with 1 Axes>"
      ]
     },
     "metadata": {},
     "output_type": "display_data"
    }
   ],
   "source": [
    "# Generate a pie plot showing the distribution of female versus male mice using pandas\n",
    "\n",
    "#Grouping by the sex of the mouse\n",
    "sex_group_df = mice_data_df.groupby('Sex')\n",
    "\n",
    "#Getting the amount of male and female mice \n",
    "sex_group_count = sex_group_df.count()\n",
    "\n",
    "#Resetting the index\n",
    "sex_group_df = sex_group_count.reset_index()\n",
    "\n",
    "#Making the Pie Chart \n",
    "sex_group_count.plot(x = 'Sex', y = 'Mouse ID', kind='pie', explode = [0.1, 0], autopct = '%1.1f%%', legend = None)"
   ]
  },
  {
   "cell_type": "code",
   "execution_count": 73,
   "metadata": {},
   "outputs": [
    {
     "data": {
      "text/plain": [
       "(-1.1046567928362272,\n",
       " 1.1022210380848285,\n",
       " -1.1077121695699783,\n",
       " 1.2101537272442933)"
      ]
     },
     "execution_count": 73,
     "metadata": {},
     "output_type": "execute_result"
    },
    {
     "data": {
      "image/png": "[encoded data removed]",
      "text/plain": [
       "<Figure size 432x288 with 1 Axes>"
      ]
     },
     "metadata": {},
     "output_type": "display_data"
    }
   ],
   "source": [
    "# Generate a pie plot showing the distribution of female versus male mice using pyplot\n",
    "\n",
    "#Counting the number of male and female mice \n",
    "sex_count = sex_group_df['Mouse ID']\n",
    "gender = sex_group_df['Sex']\n",
    "\n",
    "#Setting the variables for the pie chart\n",
    "color = ['purple','yellow']\n",
    "explode = [0.1,0]\n",
    "\n",
    "#Making the pie chart \n",
    "plt.pie(sex_count, explode=explode, labels=gender, colors=color, autopct = '%1.1f%%')\n",
    "plt.axis('equal')"
   ]
  },
  {
   "cell_type": "markdown",
   "metadata": {},
   "source": [
    "## Quartiles, Outliers and Boxplots"
   ]
  },
  {
   "cell_type": "code",
   "execution_count": 74,
   "metadata": {},
   "outputs": [],
   "source": [
    "# Calculate the final tumor volume of each mouse across four of the treatment regimens:  \n",
    "# Capomulin, Ramicane, Infubinol, and Ceftamin\n",
    "capomulin_treatments_df = clean_data_df.loc[(clean_data_df['Drug Regimen'] == 'Capomulin')]\n",
    "ramicane_treatments_df = clean_data_df.loc[(clean_data_df['Drug Regimen'] == 'Ramicane')] \n",
    "infubinol_treatments_df = clean_data_df.loc[(clean_data_df['Drug Regimen'] == 'Infubinol')] \n",
    "ceftamin_treatments_df = clean_data_df.loc[(clean_data_df['Drug Regimen'] == 'Ceftamin')]\n",
    "\n",
    "#Making a list for Capomulin \n",
    "capomulin_tumor_volume_list = list(capomulin_treatments_df['Tumor Volume (mm3)'])\n",
    "capomulin_tumor_volume_column = capomulin_treatments_df['Tumor Volume (mm3)']\n",
    "\n",
    "#Making a list for Ramicane \n",
    "ramicane_tumor_volume_list = list(ramicane_treatments_df['Tumor Volume (mm3)'])\n",
    "ramicane_tumor_volume_column = ramicane_treatments_df['Tumor Volume (mm3)']\n",
    "\n",
    "#Making a list for Infubinol\n",
    "infubinol_tumor_volume_list = list(infubinol_treatments_df['Tumor Volume (mm3)'])\n",
    "infubinol_tumor_volume_column = infubinol_treatments_df['Tumor Volume (mm3)']\n",
    "\n",
    "#Making a list for Ceftamin \n",
    "ceftamin_tumor_volume_list = list(ceftamin_treatments_df['Tumor Volume (mm3)'])\n",
    "ceftamin_tumor_volume_column = ceftamin_treatments_df['Tumor Volume (mm3)']"
   ]
  },
  {
   "cell_type": "code",
   "execution_count": 75,
   "metadata": {},
   "outputs": [
    {
     "name": "stdout",
     "output_type": "stream",
     "text": [
      "Capomulin\n",
      "The lower quartile of tumor volume is 32.37735684\n",
      "The upper quartile of tumor volume is 40.1592203\n",
      "The IQR of tumor volume is 7.781863460000004\n",
      "Values below 20.70456164999999 could be outliers\n",
      "Values above 51.83201549 could be outliers\n"
     ]
    }
   ],
   "source": [
    "# Put treatments into a list for for loop (and later for plot labels)\n",
    "# Create empty list to fill with tumor vol data (for plotting)\n",
    "# Calculate the IQR and quantitatively determine if there are any potential outliers. \n",
    "# Locate the rows which contain mice on each drug and get the tumor volumes\n",
    "\n",
    "#Setting quartiles \n",
    "quartiles = capomulin_tumor_volume_column.quantile([.25, .5, .75])\n",
    "\n",
    "#Finding upper and lower quartiles \n",
    "lowerq = quartiles[0.25]\n",
    "upperq = quartiles[0.75]\n",
    "iqr = upperq - lowerq\n",
    "\n",
    "#Calculating the upper and lower bound \n",
    "lower_bound = lowerq - (1.5 * iqr)\n",
    "upper_bound = upperq + (1.5 * iqr)\n",
    "\n",
    "# add subset \n",
    "#Printing the lower and upper limits and where outliers would be on the list \n",
    "print('Capomulin')\n",
    "print(f'The lower quartile of tumor volume is {lowerq}')\n",
    "print(f'The upper quartile of tumor volume is {upperq}')\n",
    "print(f'The IQR of tumor volume is {iqr}')\n",
    "print(f'Values below {lower_bound} could be outliers')\n",
    "print(f'Values above {upper_bound} could be outliers')"
   ]
  },
  {
   "cell_type": "code",
   "execution_count": 76,
   "metadata": {},
   "outputs": [
    {
     "name": "stdout",
     "output_type": "stream",
     "text": [
      "Ramicane\n",
      "The lower quartile of tumor volume is 31.56046955\n",
      "The upper quartile of tumor volume is 40.65900627\n",
      "The IQR of tumor volume is 9.098536719999998\n",
      "Values below 17.912664470000003 could be outliers\n",
      "Values above 54.30681135 could be outliers\n"
     ]
    }
   ],
   "source": [
    "#Setting quartiles \n",
    "quartiles = ramicane_tumor_volume_column.quantile([.25, .5, .75])\n",
    "\n",
    "#Finding upper and lower quartiles \n",
    "lowerq = quartiles[0.25]\n",
    "upperq = quartiles[0.75]\n",
    "iqr = upperq - lowerq\n",
    "\n",
    "#Calculating the upper and lower bound \n",
    "lower_bound = lowerq - (1.5 * iqr)\n",
    "upper_bound = upperq + (1.5 * iqr)\n",
    "\n",
    "# add subset \n",
    "#Printing the lower and upper limits and where outliers would be on the list \n",
    "print('Ramicane')\n",
    "print(f'The lower quartile of tumor volume is {lowerq}')\n",
    "print(f'The upper quartile of tumor volume is {upperq}')\n",
    "print(f'The IQR of tumor volume is {iqr}')\n",
    "print(f'Values below {lower_bound} could be outliers')\n",
    "print(f'Values above {upper_bound} could be outliers')"
   ]
  },
  {
   "cell_type": "code",
   "execution_count": 77,
   "metadata": {},
   "outputs": [
    {
     "name": "stdout",
     "output_type": "stream",
     "text": [
      "Infubinol\n",
      "The lower quartile of tumor volume is 54.04860769\n",
      "The upper quartile of tumor volume is 65.52574285\n",
      "The IQR of tumor volume is 11.477135160000003\n",
      "Values below 36.83290494999999 could be outliers\n",
      "Values above 82.74144559000001 could be outliers\n"
     ]
    }
   ],
   "source": [
    "#Setting quartiles \n",
    "quartiles = infubinol_tumor_volume_column.quantile([.25, .5, .75])\n",
    "\n",
    "#Finding upper and lower quartiles \n",
    "lowerq = quartiles[0.25]\n",
    "upperq = quartiles[0.75]\n",
    "iqr = upperq - lowerq\n",
    "\n",
    "#Calculating the upper and lower bound \n",
    "lower_bound = lowerq - (1.5 * iqr)\n",
    "upper_bound = upperq + (1.5 * iqr)\n",
    "\n",
    "# add subset \n",
    "#Printing the lower and upper limits and where outliers would be on the list \n",
    "print('Infubinol')\n",
    "print(f'The lower quartile of tumor volume is {lowerq}')\n",
    "print(f'The upper quartile of tumor volume is {upperq}')\n",
    "print(f'The IQR of tumor volume is {iqr}')\n",
    "print(f'Values below {lower_bound} could be outliers')\n",
    "print(f'Values above {upper_bound} could be outliers')"
   ]
  },
  {
   "cell_type": "code",
   "execution_count": 78,
   "metadata": {},
   "outputs": [
    {
     "name": "stdout",
     "output_type": "stream",
     "text": [
      "Ceftamin\n",
      "The lower quartile of tumor volume is 48.72207785\n",
      "The upper quartile of tumor volume is 64.29983003\n",
      "The IQR of tumor volume is 15.577752179999997\n",
      "Values below 25.355449580000002 could be outliers\n",
      "Values above 87.66645829999999 could be outliers\n"
     ]
    }
   ],
   "source": [
    "#Setting quartiles \n",
    "quartiles = ceftamin_tumor_volume_column.quantile([.25, .5, .75])\n",
    "\n",
    "#Finding upper and lower quartiles \n",
    "lowerq = quartiles[0.25]\n",
    "upperq = quartiles[0.75]\n",
    "iqr = upperq - lowerq\n",
    "\n",
    "#Calculating the upper and lower bound \n",
    "lower_bound = lowerq - (1.5 * iqr)\n",
    "upper_bound = upperq + (1.5 * iqr)\n",
    "\n",
    "# add subset \n",
    "#Printing the lower and upper limits and where outliers would be on the list \n",
    "print('Ceftamin')\n",
    "print(f'The lower quartile of tumor volume is {lowerq}')\n",
    "print(f'The upper quartile of tumor volume is {upperq}')\n",
    "print(f'The IQR of tumor volume is {iqr}')\n",
    "print(f'Values below {lower_bound} could be outliers')\n",
    "print(f'Values above {upper_bound} could be outliers')"
   ]
  },
  {
   "cell_type": "code",
   "execution_count": 79,
   "metadata": {},
   "outputs": [
    {
     "data": {
      "image/png": "[encoded data removed]",
      "text/plain": [
       "<Figure size 432x288 with 1 Axes>"
      ]
     },
     "metadata": {
      "needs_background": "light"
     },
     "output_type": "display_data"
    }
   ],
   "source": [
    "#Making a list of all the tummor volume data\n",
    "data = [capomulin_tumor_volume_list, ramicane_tumor_volume_list, infubinol_tumor_volume_list, ceftamin_tumor_volume_list]\n",
    "\n",
    "#Plotting the box and whisker plot \n",
    "fig, ax = plt.subplots()\n",
    "ax.set_title('Final Tumor Volume for Ramicane')\n",
    "ax.boxplot(data, sym = 'r+')\n",
    "plt.xticks([1, 2, 3, 4], ['Capomulin','Ramicane','Infubinol','Ceftamin'])\n",
    "plt.show()"
   ]
  },
  {
   "cell_type": "markdown",
   "metadata": {},
   "source": [
    "## Line and Scatter Plots"
   ]
  },
  {
   "cell_type": "code",
   "execution_count": 80,
   "metadata": {},
   "outputs": [
    {
     "data": {
      "image/png": "[encoded data removed]",
      "text/plain": [
       "<Figure size 432x288 with 1 Axes>"
      ]
     },
     "metadata": {
      "needs_background": "light"
     },
     "output_type": "display_data"
    }
   ],
   "source": [
    "# Generate a line plot of time point versus tumor volume for a mouse treated with Capomulin\n",
    "capomulin_df = mice_data_df.loc[(mice_data_df['Drug Regimen'] == 'Capomulin')]\n",
    "b128_df = capomulin_df.loc[(capomulin_df['Mouse ID'] == 'b128')]\n",
    "time = np.arange(0, 50, 5)\n",
    "\n",
    "#Finding the x and y values \n",
    "timepoint = b128_df[['Timepoint']]\n",
    "tumor_volume = b128_df[['Tumor Volume (mm3)']]\n",
    "\n",
    "#Making the scatter plot\n",
    "tumor_volume, = plt.plot(time, tumor_volume, marker=\"o\", color = 'orange', label = 'Tumor Volume (mm3)')\n",
    "\n",
    "#Adding lables and titles \n",
    "plt.title('Tumor Volume Over Time')\n",
    "plt.xlabel('Timepoint')\n",
    "plt.ylabel('Tumor Volume (mm3)')\n",
    "\n",
    "#Setting Limits\n",
    "plt.xlim(0,45)\n",
    "plt.ylim(0,70)\n",
    "\n",
    "#Setting a legend \n",
    "plt.legend(handles=[tumor_volume], loc='best')\n",
    "\n",
    "#Adding a grid\n",
    "plt.grid()"
   ]
  },
  {
   "cell_type": "code",
   "execution_count": 81,
   "metadata": {},
   "outputs": [
    {
     "data": {
      "image/png": "[encoded data removed]",
      "text/plain": [
       "<Figure size 432x288 with 1 Axes>"
      ]
     },
     "metadata": {
      "needs_background": "light"
     },
     "output_type": "display_data"
    }
   ],
   "source": [
    "# Generate a scatter plot of mouse weight versus average tumor volume for the Capomulin regimen\n",
    "#Finding the average of the tumor volume over time \n",
    "mouse_id_df = capomulin_df.groupby('Mouse ID')\n",
    "average_tumor_df = mouse_id_df.mean()\n",
    "\n",
    "#Finding the x and y variables \n",
    "average_tumor = average_tumor_df['Tumor Volume (mm3)']\n",
    "weight = average_tumor_df['Weight (g)']\n",
    "\n",
    "#Making the scatter plot\n",
    "plt.scatter(weight, average_tumor, marker = 'o', facecolors = 'purple', edgecolors = 'yellow')\n",
    "\n",
    "#Giving names to labels\n",
    "plt.title('Weight v Tumor Size')\n",
    "plt.xlabel('Weight (g)')\n",
    "plt.ylabel('Tumor Volume (mm3)')\n",
    "\n",
    "#Setting Limits\n",
    "plt.xlim(10,28)\n",
    "plt.ylim(0,50)\n",
    "plt.grid()"
   ]
  },
  {
   "cell_type": "code",
   "execution_count": 82,
   "metadata": {},
   "outputs": [
    {
     "data": {
      "text/plain": [
       "'y = 0.95x + 21.55'"
      ]
     },
     "execution_count": 82,
     "metadata": {},
     "output_type": "execute_result"
    }
   ],
   "source": [
    "# Calculate the correlation coefficient and linear regression model \n",
    "# for mouse weight and average tumor volume for the Capomulin regimen\n",
    "(slope, intercept,  rvalue, pvalue, stderr) = sts.linregress(weight, average_tumor)\n",
    "lin_reg = ('y = ' + str(round(slope,2)) + 'x + ' + str(round(intercept,2)))\n",
    "lin_reg"
   ]
  },
  {
   "cell_type": "code",
   "execution_count": 83,
   "metadata": {},
   "outputs": [
    {
     "data": {
      "text/plain": [
       "0.8419363424694717"
      ]
     },
     "execution_count": 83,
     "metadata": {},
     "output_type": "execute_result"
    }
   ],
   "source": [
    "correlation = np.corrcoef(average_tumor, weight, rowvar=True)\n",
    "correlation_coefficient = correlation[0][1]\n",
    "correlation_coefficient "
   ]
  },
  {
   "cell_type": "code",
   "execution_count": 84,
   "metadata": {},
   "outputs": [
    {
     "data": {
      "image/png": "[encoded data removed]",
      "text/plain": [
       "<Figure size 432x288 with 1 Axes>"
      ]
     },
     "metadata": {
      "needs_background": "light"
     },
     "output_type": "display_data"
    }
   ],
   "source": [
    "#Making the scatter plot\n",
    "plt.scatter(weight, average_tumor, marker = 'o', facecolors = 'purple', edgecolors = 'yellow')\n",
    "\n",
    "#Giving names to labels\n",
    "plt.title('Weight v Tumor Size')\n",
    "plt.xlabel('Weight (g)')\n",
    "plt.ylabel('Tumor Volume (mm3)')\n",
    "\n",
    "#Setting Limits\n",
    "plt.xlim(14,26)\n",
    "plt.ylim(0,50)\n",
    "\n",
    "#Plotting the regression line\n",
    "x_values = weight\n",
    "regress_values = x_values * slope + intercept \n",
    "plt.plot(x_values, regress_values, 'r-')\n",
    "plt.grid()"
   ]
  },
  {
   "cell_type": "code",
   "execution_count": null,
   "metadata": {},
   "outputs": [],
   "source": []
  }
 ],
 "metadata": {
  "anaconda-cloud": {},
  "kernelspec": {
   "display_name": "Python 3",
   "language": "python",
   "name": "python3"
  },
  "language_info": {
   "codemirror_mode": {
    "name": "ipython",
    "version": 3
   },
   "file_extension": ".py",
   "mimetype": "text/x-python",
   "name": "python",
   "nbconvert_exporter": "python",
   "pygments_lexer": "ipython3",
   "version": "3.7.6"
  }
 },
 "nbformat": 4,
 "nbformat_minor": 2
}
